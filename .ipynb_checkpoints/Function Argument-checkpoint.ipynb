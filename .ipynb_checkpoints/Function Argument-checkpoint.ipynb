{
 "cells": [
  {
   "cell_type": "markdown",
   "metadata": {
    "toc": true
   },
   "source": [
    "<h1>Table of Contents<span class=\"tocSkip\"></span></h1>\n",
    "<div class=\"toc\"><ul class=\"toc-item\"><li><span><a href=\"#Mutable-Default-Argument-and-Function\" data-toc-modified-id=\"Mutable-Default-Argument-and-Function-1\"><span class=\"toc-item-num\">1&nbsp;&nbsp;</span>Mutable Default Argument and Function</a></span><ul class=\"toc-item\"><li><span><a href=\"#Example-of-mutable-object-is-used-in-function-argument\" data-toc-modified-id=\"Example-of-mutable-object-is-used-in-function-argument-1.1\"><span class=\"toc-item-num\">1.1&nbsp;&nbsp;</span>Example of mutable object is used in function argument</a></span></li><li><span><a href=\"#Solution-to-use-mutable-objects-in-function-argument\" data-toc-modified-id=\"Solution-to-use-mutable-objects-in-function-argument-1.2\"><span class=\"toc-item-num\">1.2&nbsp;&nbsp;</span>Solution to use mutable objects in function argument</a></span></li></ul></li><li><span><a href=\"#Function-Arguments\" data-toc-modified-id=\"Function-Arguments-2\"><span class=\"toc-item-num\">2&nbsp;&nbsp;</span>Function Arguments</a></span><ul class=\"toc-item\"><li><span><a href=\"#The-unpacking-operator-(*)\" data-toc-modified-id=\"The-unpacking-operator-(*)-2.1\"><span class=\"toc-item-num\">2.1&nbsp;&nbsp;</span>The unpacking operator (*)</a></span></li><li><span><a href=\"#**kwargs\" data-toc-modified-id=\"**kwargs-2.2\"><span class=\"toc-item-num\">2.2&nbsp;&nbsp;</span>**kwargs</a></span></li><li><span><a href=\"#Put-everything-together\" data-toc-modified-id=\"Put-everything-together-2.3\"><span class=\"toc-item-num\">2.3&nbsp;&nbsp;</span>Put everything together</a></span></li><li><span><a href=\"#Unpacking-and-packing\" data-toc-modified-id=\"Unpacking-and-packing-2.4\"><span class=\"toc-item-num\">2.4&nbsp;&nbsp;</span>Unpacking and packing</a></span><ul class=\"toc-item\"><li><span><a href=\"#In-the-below,-asterisk-*-unpacks-the-my_num_list-into-3-number-to-put-into-the-sum-function\" data-toc-modified-id=\"In-the-below,-asterisk-*-unpacks-the-my_num_list-into-3-number-to-put-into-the-sum-function-2.4.1\"><span class=\"toc-item-num\">2.4.1&nbsp;&nbsp;</span>In the below, asterisk * unpacks the my_num_list into 3 number to put into the sum function</a></span></li><li><span><a href=\"#Similar-unpacking-is-applied-with-double-asterisks-**\" data-toc-modified-id=\"Similar-unpacking-is-applied-with-double-asterisks-**-2.4.2\"><span class=\"toc-item-num\">2.4.2&nbsp;&nbsp;</span>Similar unpacking is applied with double asterisks **</a></span></li><li><span><a href=\"#Unpacking-can-also-be-used-inside-function\" data-toc-modified-id=\"Unpacking-can-also-be-used-inside-function-2.4.3\"><span class=\"toc-item-num\">2.4.3&nbsp;&nbsp;</span>Unpacking can also be used inside function</a></span></li><li><span><a href=\"#Unpacking-parts-of-an-iterable\" data-toc-modified-id=\"Unpacking-parts-of-an-iterable-2.4.4\"><span class=\"toc-item-num\">2.4.4&nbsp;&nbsp;</span>Unpacking parts of an iterable</a></span></li><li><span><a href=\"#Merging-iterables\" data-toc-modified-id=\"Merging-iterables-2.4.5\"><span class=\"toc-item-num\">2.4.5&nbsp;&nbsp;</span>Merging iterables</a></span></li><li><span><a href=\"#Combine-packing-and-unpacking\" data-toc-modified-id=\"Combine-packing-and-unpacking-2.4.6\"><span class=\"toc-item-num\">2.4.6&nbsp;&nbsp;</span>Combine packing and unpacking</a></span></li></ul></li></ul></li></ul></div>"
   ]
  },
  {
   "cell_type": "markdown",
   "metadata": {},
   "source": [
    "## Mutable Default Argument and Function\n",
    "\n",
    "Examples of mutable objects:\n",
    "- list\n",
    "- set\n",
    "- dictionary\n",
    "\n",
    "Examples of immutable objects:\n",
    "- int, float or other numbers\n",
    "- Tupples are kind of immutable list\n",
    "- Strings are immutable as strings are returned a completely new strings when they are updated.\n",
    "\n",
    "When using mutable object in function argument, one (1) and only one (1) object is created."
   ]
  },
  {
   "cell_type": "markdown",
   "metadata": {},
   "source": [
    "### Example of mutable object is used in function argument"
   ]
  },
  {
   "cell_type": "code",
   "execution_count": 8,
   "metadata": {},
   "outputs": [
    {
     "name": "stdout",
     "output_type": "stream",
     "text": [
      "order1 is: [{'item': 'burger', 'cost': '3.50'}]\n",
      "order2 is: [{'item': 'burger', 'cost': '3.50'}, {'item': 'soda', 'cost': '1.50'}]\n",
      "order1 is: [{'item': 'burger', 'cost': '3.50'}, {'item': 'soda', 'cost': '1.50'}]\n"
     ]
    }
   ],
   "source": [
    "def update_order(new_item, current_order=[]):\n",
    "    current_order.append(new_item)\n",
    "    return current_order\n",
    "\n",
    "\n",
    "# First order, burger\n",
    "order1 = update_order({'item': 'burger', 'cost': '3.50'})\n",
    "\n",
    "print(f\"order1 is: {order1}\")\n",
    "\n",
    "# Second order, just a soda\n",
    "order2 = update_order({'item': 'soda', 'cost': '1.50'})\n",
    "\n",
    "# What's in that second order again?\n",
    "print(f\"order2 is: {order2}\")\n",
    "print(f\"order1 is: {order1}\")"
   ]
  },
  {
   "cell_type": "markdown",
   "metadata": {},
   "source": [
    "In the above, current_order is used as a list in argument of function update_order. The function append the new_item into the argument current_order, and finally return the current_order\n",
    "- In order1, first item of {{'item': 'burger', 'cost': '3.50'} is used for the argument new_item\n",
    "- In order2, we would expect that it would be {'item': 'soda', 'cost': '1.50'}. However, it is returning the list appended into order1. And we get order1 and order2 have the same value finally.\n",
    "\n",
    "Reason: order1 and order2 are just pointers to the same location in memory, which is assigned to current_order list. This can be proved as below when both orders have the same id."
   ]
  },
  {
   "cell_type": "code",
   "execution_count": 11,
   "metadata": {},
   "outputs": [
    {
     "name": "stdout",
     "output_type": "stream",
     "text": [
      "2472442436864\n",
      "2472442436864\n"
     ]
    }
   ],
   "source": [
    "print(id(order1))\n",
    "print(id(order2))"
   ]
  },
  {
   "cell_type": "markdown",
   "metadata": {},
   "source": [
    "### Solution to use mutable objects in function argument\n",
    "\n",
    "The solution is to combine None and if as below"
   ]
  },
  {
   "cell_type": "code",
   "execution_count": 12,
   "metadata": {},
   "outputs": [
    {
     "name": "stdout",
     "output_type": "stream",
     "text": [
      "order1 is: [{'item': 'burger', 'cost': '3.50'}]\n",
      "order2 is: [{'item': 'soda', 'cost': '1.50'}]\n",
      "order1 is: [{'item': 'burger', 'cost': '3.50'}]\n"
     ]
    }
   ],
   "source": [
    "def update_order(new_item, current_order=None):\n",
    "    if current_order == None:\n",
    "        current_order = []\n",
    "    current_order.append(new_item)\n",
    "    return current_order\n",
    "\n",
    "\n",
    "# First order, burger\n",
    "order1 = update_order({'item': 'burger', 'cost': '3.50'})\n",
    "\n",
    "\n",
    "print(f\"order1 is: {order1}\")\n",
    "\n",
    "\n",
    "# Second order, just a soda\n",
    "order2 = update_order({'item': 'soda', 'cost': '1.50'})\n",
    "\n",
    "# What's in that second order again?\n",
    "print(f\"order2 is: {order2}\")\n",
    "print(f\"order1 is: {order1}\")"
   ]
  },
  {
   "cell_type": "markdown",
   "metadata": {},
   "source": [
    "## Function Arguments\n",
    "\n",
    "### The unpacking operator (\\*)\n",
    "\n",
    "It is storing its following argument passed into the function in the form of a tuple."
   ]
  },
  {
   "cell_type": "code",
   "execution_count": 24,
   "metadata": {},
   "outputs": [
    {
     "name": "stdout",
     "output_type": "stream",
     "text": [
      "('hello', 2, False)\n",
      "<class 'tuple'>\n"
     ]
    }
   ],
   "source": [
    "def my_function(*args):\n",
    "    print(args)\n",
    "    print(type(args))\n",
    "\n",
    "my_function(\"hello\", 2, False)"
   ]
  },
  {
   "cell_type": "code",
   "execution_count": 19,
   "metadata": {},
   "outputs": [
    {
     "name": "stdout",
     "output_type": "stream",
     "text": [
      " hello 2 False\n"
     ]
    }
   ],
   "source": [
    "# This is to print them into a string\n",
    "def my_function(*args):\n",
    "    s=\"\"\n",
    "    for arg in args:\n",
    "        s = f\"{s} {arg}\"\n",
    "        \n",
    "    s.strip()\n",
    "    \n",
    "    print(s)\n",
    "    \n",
    "\n",
    "my_function(\"hello\", 2, False)"
   ]
  },
  {
   "cell_type": "markdown",
   "metadata": {},
   "source": [
    "**Another example**"
   ]
  },
  {
   "cell_type": "code",
   "execution_count": 22,
   "metadata": {},
   "outputs": [
    {
     "name": "stdout",
     "output_type": "stream",
     "text": [
      "{1: {'name': 'Jiho', 'vip_status': False, 'order': 'Orange Juice, Apple Juice'}, 2: {}, 3: {}, 4: {}, 5: {}, 6: {}, 7: {}}\n",
      "Steak\n",
      "Seabass\n",
      "Wine Bottle\n",
      "{1: {'name': 'Jiho', 'vip_status': False, 'order': 'Orange Juice, Apple Juice'}, 2: {'name': 'Arwa', 'vip_status': True, 'order': ('Steak', 'Seabass', 'Wine Bottle')}, 3: {}, 4: {}, 5: {}, 6: {}, 7: {}}\n"
     ]
    }
   ],
   "source": [
    "tables = {\n",
    "  1: {\n",
    "    'name': 'Jiho',\n",
    "    'vip_status': False,\n",
    "    'order': 'Orange Juice, Apple Juice'\n",
    "  },\n",
    "  2: {},\n",
    "  3: {},\n",
    "  4: {},\n",
    "  5: {},\n",
    "  6: {},\n",
    "  7: {},\n",
    "}\n",
    "print(tables)\n",
    "\n",
    "def assign_table(table_number, name, vip_status=False): \n",
    "  tables[table_number]['name'] = name\n",
    "  tables[table_number]['vip_status'] = vip_status\n",
    "  tables[table_number]['order'] = ''\n",
    "\n",
    "# Write your code below: \n",
    "def assign_and_print_order(table_number, *order_items):\n",
    "  tables[table_number][\"order\"] = order_items\n",
    "  for item in order_items:\n",
    "    print(item)\n",
    "\n",
    "# Add a new customer named 'Arwa' to table 2 with a VIP status set to True\n",
    "assign_table(2, \"Arwa\", True)\n",
    "\n",
    "# Now that Arwa is seated and ready to order, call our assign_and_print_order() function for table 2 with the order items of 'Steak', 'Seabass', and 'Wine Bottle'\n",
    "assign_and_print_order(2, \"Steak\", \"Seabass\", \"Wine Bottle\")\n",
    "\n",
    "print(tables)"
   ]
  },
  {
   "cell_type": "markdown",
   "metadata": {},
   "source": [
    "### **kwargs\n",
    "\n",
    "Double asterisks ** allow for unlimited keyword arguments"
   ]
  },
  {
   "cell_type": "code",
   "execution_count": 23,
   "metadata": {},
   "outputs": [
    {
     "name": "stdout",
     "output_type": "stream",
     "text": [
      "<class 'dict'>\n",
      "{'this_arg': 'wowzers', 'anything_goes': 101}\n",
      "101\n"
     ]
    }
   ],
   "source": [
    "def arbitrary_keyword_args(**kwargs):\n",
    "  print(type(kwargs))\n",
    "  print(kwargs)\n",
    "  # See if there's an 'anything_goes' keyword arg and print it\n",
    "  print(kwargs.get('anything_goes'))\n",
    " \n",
    "arbitrary_keyword_args(this_arg='wowzers', anything_goes=101)"
   ]
  },
  {
   "cell_type": "markdown",
   "metadata": {},
   "source": [
    "**Another example**"
   ]
  },
  {
   "cell_type": "code",
   "execution_count": 27,
   "metadata": {},
   "outputs": [
    {
     "name": "stdout",
     "output_type": "stream",
     "text": [
      "{1: {'name': 'Chioma', 'vip_status': False, 'order': {'drinks': 'Orange Juice, Apple Juice', 'food': 'Pancakes'}}, 2: {}, 3: {}, 4: {}, 5: {}, 6: {}, 7: {}}\n",
      "{'food': 'Pancakes, Poached Egg', 'drinks': 'Water'}\n",
      "Pancakes, Poached Egg\n",
      "Water\n"
     ]
    }
   ],
   "source": [
    "tables = {\n",
    "  1: {\n",
    "    'name': 'Chioma',\n",
    "    'vip_status': False,\n",
    "    'order': {\n",
    "      'drinks': 'Orange Juice, Apple Juice',\n",
    "      'food': 'Pancakes'\n",
    "    }\n",
    "  },\n",
    "  2: {},\n",
    "  3: {},\n",
    "  4: {},\n",
    "  5: {},\n",
    "  6: {},\n",
    "  7: {},\n",
    "}\n",
    "print(tables)\n",
    "\n",
    "\n",
    "# Write your code below: \n",
    "def assign_food_items(**order_items):\n",
    "  print(order_items)\n",
    "  food = order_items.get(\"food\")\n",
    "  drinks = order_items.get(\"drinks\")\n",
    "  print(food)\n",
    "  print(drinks)\n",
    "\n",
    "# Example Call\n",
    "assign_food_items(food='Pancakes, Poached Egg', drinks='Water')"
   ]
  },
  {
   "cell_type": "markdown",
   "metadata": {},
   "source": [
    "**Last example**"
   ]
  },
  {
   "cell_type": "code",
   "execution_count": 34,
   "metadata": {},
   "outputs": [
    {
     "name": "stdout",
     "output_type": "stream",
     "text": [
      "position 1\n",
      "arg1\n",
      "True\n",
      "100\n"
     ]
    }
   ],
   "source": [
    "def print_data(positional_arg, **data):\n",
    "    print(positional_arg)\n",
    "    for arg in data.values():\n",
    "        print(arg)\n",
    " \n",
    "print_data('position 1', a='arg1', b=True, c=100)"
   ]
  },
  {
   "cell_type": "markdown",
   "metadata": {},
   "source": [
    "### Put everything together"
   ]
  },
  {
   "cell_type": "code",
   "execution_count": 35,
   "metadata": {},
   "outputs": [
    {
     "name": "stdout",
     "output_type": "stream",
     "text": [
      "Snake Fish\n",
      "('Guinea Pig', 'Owl')\n",
      "Cat\n",
      "{'animal5': 'Dog', 'animal6': 'Tiger'}\n"
     ]
    }
   ],
   "source": [
    "def print_animals(animal1, animal2, *args, animal4, **kwargs):\n",
    "    print(animal1, animal2)\n",
    "    print(args)\n",
    "    print(animal4)\n",
    "    print(kwargs)\n",
    "    \n",
    "print_animals('Snake', 'Fish', 'Guinea Pig', 'Owl', animal4='Cat', animal5='Dog', animal6='Tiger')"
   ]
  },
  {
   "cell_type": "markdown",
   "metadata": {},
   "source": [
    "### Unpacking and packing"
   ]
  },
  {
   "cell_type": "markdown",
   "metadata": {},
   "source": [
    "#### In the below, asterisk * unpacks the my_num_list into 3 number to put into the sum function"
   ]
  },
  {
   "cell_type": "code",
   "execution_count": 41,
   "metadata": {},
   "outputs": [
    {
     "name": "stdout",
     "output_type": "stream",
     "text": [
      "18\n",
      "3 6 9\n"
     ]
    }
   ],
   "source": [
    "my_num_list = [3, 6, 9]\n",
    " \n",
    "def sum(num1, num2, num3):\n",
    "  print(num1 + num2 + num3)\n",
    " \n",
    "sum(*my_num_list)\n",
    "print(*my_num_list)"
   ]
  },
  {
   "cell_type": "markdown",
   "metadata": {},
   "source": [
    "#### Similar unpacking is applied with double asterisks **"
   ]
  },
  {
   "cell_type": "code",
   "execution_count": 44,
   "metadata": {},
   "outputs": [
    {
     "name": "stdout",
     "output_type": "stream",
     "text": [
      "18\n"
     ]
    }
   ],
   "source": [
    "numbers  = {'num1': 3, 'num2': 6, 'num3': 9}\n",
    " \n",
    "def sum(num1, num2, num3):\n",
    "  print(num1 + num2 + num3)\n",
    " \n",
    "sum(**numbers)"
   ]
  },
  {
   "cell_type": "markdown",
   "metadata": {},
   "source": [
    "#### Unpacking can also be used inside function"
   ]
  },
  {
   "cell_type": "code",
   "execution_count": 45,
   "metadata": {},
   "outputs": [
    {
     "name": "stdout",
     "output_type": "stream",
     "text": [
      "[3, 4, 5]\n"
     ]
    }
   ],
   "source": [
    "start_and_stop = [3, 6]\n",
    " \n",
    "range_values = range(*start_and_stop)\n",
    "print(list(range_values))"
   ]
  },
  {
   "cell_type": "markdown",
   "metadata": {},
   "source": [
    "#### Unpacking parts of an iterable"
   ]
  },
  {
   "cell_type": "code",
   "execution_count": 46,
   "metadata": {},
   "outputs": [
    {
     "name": "stdout",
     "output_type": "stream",
     "text": [
      "[6, 9, 12]\n"
     ]
    }
   ],
   "source": [
    " a, *b, c = [3, 6, 9, 12, 15]\n",
    " print(b)"
   ]
  },
  {
   "cell_type": "markdown",
   "metadata": {},
   "source": [
    "#### Merging iterables"
   ]
  },
  {
   "cell_type": "code",
   "execution_count": 47,
   "metadata": {},
   "outputs": [
    {
     "name": "stdout",
     "output_type": "stream",
     "text": [
      "(0, 3, 6, 9, 12)\n"
     ]
    }
   ],
   "source": [
    "my_tuple = (3, 6, 9)\n",
    "merged_tuple = (0, *my_tuple, 12)\n",
    "print(merged_tuple)"
   ]
  },
  {
   "cell_type": "markdown",
   "metadata": {},
   "source": [
    "#### Combine packing and unpacking"
   ]
  },
  {
   "cell_type": "code",
   "execution_count": 49,
   "metadata": {},
   "outputs": [
    {
     "name": "stdout",
     "output_type": "stream",
     "text": [
      "9\n",
      "36\n",
      "81\n"
     ]
    }
   ],
   "source": [
    "num_collection = [3, 6, 9]\n",
    " \n",
    "def power_two(*nums): # Packing with *args\n",
    "  for num in nums:\n",
    "    print(num**2)\n",
    " \n",
    "power_two(*num_collection) # Unpacking"
   ]
  },
  {
   "cell_type": "code",
   "execution_count": null,
   "metadata": {},
   "outputs": [],
   "source": []
  }
 ],
 "metadata": {
  "kernelspec": {
   "display_name": "Python 3",
   "language": "python",
   "name": "python3"
  },
  "language_info": {
   "codemirror_mode": {
    "name": "ipython",
    "version": 3
   },
   "file_extension": ".py",
   "mimetype": "text/x-python",
   "name": "python",
   "nbconvert_exporter": "python",
   "pygments_lexer": "ipython3",
   "version": "3.8.3"
  },
  "toc": {
   "base_numbering": 1,
   "nav_menu": {},
   "number_sections": true,
   "sideBar": true,
   "skip_h1_title": false,
   "title_cell": "Table of Contents",
   "title_sidebar": "Contents",
   "toc_cell": true,
   "toc_position": {},
   "toc_section_display": true,
   "toc_window_display": true
  }
 },
 "nbformat": 4,
 "nbformat_minor": 4
}
