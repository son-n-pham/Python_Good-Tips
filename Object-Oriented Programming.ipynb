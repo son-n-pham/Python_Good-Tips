{
 "cells": [
  {
   "cell_type": "markdown",
   "metadata": {
    "toc": true
   },
   "source": [
    "<h1>Table of Contents<span class=\"tocSkip\"></span></h1>\n",
    "<div class=\"toc\"><ul class=\"toc-item\"><li><span><a href=\"#Introduction\" data-toc-modified-id=\"Introduction-1\"><span class=\"toc-item-num\">1&nbsp;&nbsp;</span>Introduction</a></span></li><li><span><a href=\"#OOP-Pillars\" data-toc-modified-id=\"OOP-Pillars-2\"><span class=\"toc-item-num\">2&nbsp;&nbsp;</span>OOP Pillars</a></span><ul class=\"toc-item\"><li><span><a href=\"#Inheritance\" data-toc-modified-id=\"Inheritance-2.1\"><span class=\"toc-item-num\">2.1&nbsp;&nbsp;</span>Inheritance</a></span><ul class=\"toc-item\"><li><span><a href=\"#Introduction\" data-toc-modified-id=\"Introduction-2.1.1\"><span class=\"toc-item-num\">2.1.1&nbsp;&nbsp;</span>Introduction</a></span></li><li><span><a href=\"#Overriding\" data-toc-modified-id=\"Overriding-2.1.2\"><span class=\"toc-item-num\">2.1.2&nbsp;&nbsp;</span>Overriding</a></span></li><li><span><a href=\"#Call-parent-method-although-overriding-that-method\" data-toc-modified-id=\"Call-parent-method-although-overriding-that-method-2.1.3\"><span class=\"toc-item-num\">2.1.3&nbsp;&nbsp;</span>Call parent method although overriding that method</a></span></li><li><span><a href=\"#Multiple-inheritance\" data-toc-modified-id=\"Multiple-inheritance-2.1.4\"><span class=\"toc-item-num\">2.1.4&nbsp;&nbsp;</span>Multiple inheritance</a></span><ul class=\"toc-item\"><li><span><a href=\"#Inherit-by-layers\" data-toc-modified-id=\"Inherit-by-layers-2.1.4.1\"><span class=\"toc-item-num\">2.1.4.1&nbsp;&nbsp;</span>Inherit by layers</a></span></li><li><span><a href=\"#Inherit-from-2-different-classes\" data-toc-modified-id=\"Inherit-from-2-different-classes-2.1.4.2\"><span class=\"toc-item-num\">2.1.4.2&nbsp;&nbsp;</span>Inherit from 2 different classes</a></span></li></ul></li></ul></li><li><span><a href=\"#Polymorphism\" data-toc-modified-id=\"Polymorphism-2.2\"><span class=\"toc-item-num\">2.2&nbsp;&nbsp;</span>Polymorphism</a></span></li></ul></li></ul></div>"
   ]
  },
  {
   "cell_type": "markdown",
   "metadata": {},
   "source": [
    "## Introduction\n",
    "\n",
    "Object-Oriented Programming has 4 pillars:\n",
    "- Inheritance\n",
    "- Polymorphism\n",
    "- Abstraction\n",
    "- Encapsulation"
   ]
  },
  {
   "cell_type": "code",
   "execution_count": 1,
   "metadata": {},
   "outputs": [
    {
     "name": "stdout",
     "output_type": "stream",
     "text": [
      "My id is 1\n",
      "My id is 2\n"
     ]
    }
   ],
   "source": [
    "# Define a class Employee\n",
    "class Employee:\n",
    "\n",
    "  # Define a class variable new_id and assign a value to it\n",
    "  new_id = 1\n",
    "\n",
    "  # Define __init__ method\n",
    "  def __init__(self):\n",
    "    # Define self.if and set it equal to the class Employee's variable\n",
    "    self.id = Employee.new_id\n",
    "    Employee.new_id += 1\n",
    "\n",
    "  # Define a class function say_id\n",
    "  def say_id(self):\n",
    "    print(f\"My id is {self.id}\")\n",
    "    \n",
    "\n",
    "# Define a variable e1 and set it to an instance of Employee\n",
    "e1 = Employee()\n",
    "\n",
    "# Define a variable e2 and set it to an instance of Employee\n",
    "e2 = Employee()\n",
    "\n",
    "# e1 output its id:\n",
    "e1.say_id()\n",
    "\n",
    "# e2 output its id:\n",
    "e2.say_id()"
   ]
  },
  {
   "cell_type": "markdown",
   "metadata": {},
   "source": [
    "## OOP Pillars\n",
    "### Inheritance\n",
    "#### Introduction"
   ]
  },
  {
   "cell_type": "code",
   "execution_count": 2,
   "metadata": {},
   "outputs": [
    {
     "name": "stdout",
     "output_type": "stream",
     "text": [
      "My id is 3\n"
     ]
    }
   ],
   "source": [
    "# Class Admin inherits class Employee\n",
    "class Admin(Employee):\n",
    "    pass\n",
    "\n",
    "# e3 is an object of class Admin, thus inherits Employee functions and variables\n",
    "e3 = Admin()\n",
    "e3.say_id()"
   ]
  },
  {
   "cell_type": "markdown",
   "metadata": {},
   "source": [
    "#### Overriding"
   ]
  },
  {
   "cell_type": "code",
   "execution_count": 3,
   "metadata": {},
   "outputs": [
    {
     "name": "stdout",
     "output_type": "stream",
     "text": [
      "I am Admin\n"
     ]
    }
   ],
   "source": [
    "# Class Admin inherits class Employee\n",
    "# In this case, Admin class has override the say_id() method of the parent Employee\n",
    "class Admin(Employee):\n",
    "    def say_id(self):\n",
    "        print(\"I am Admin\")\n",
    "\n",
    "# e3 is an object of class Admin, thus inherits Employee functions and variables\n",
    "e3 = Admin()\n",
    "e3.say_id()"
   ]
  },
  {
   "cell_type": "markdown",
   "metadata": {},
   "source": [
    "#### Call parent method although overriding that method"
   ]
  },
  {
   "cell_type": "code",
   "execution_count": 4,
   "metadata": {},
   "outputs": [
    {
     "name": "stdout",
     "output_type": "stream",
     "text": [
      "My id is 3.\n",
      "I am an admin.\n"
     ]
    }
   ],
   "source": [
    "class Employee():\n",
    "  new_id = 1\n",
    "  def __init__(self):\n",
    "    self.id = Employee.new_id\n",
    "    Employee.new_id += 1\n",
    "\n",
    "  def say_id(self):\n",
    "    print(\"My id is {}.\".format(self.id))\n",
    "\n",
    "class Admin(Employee):\n",
    "  def say_id(self):\n",
    "    # super() is used to call the method from the parent class\n",
    "    super().say_id()\n",
    "    print(\"I am an admin.\")\n",
    "\n",
    "e1 = Employee()\n",
    "e2 = Employee()\n",
    "e3 = Admin()\n",
    "e3.say_id()"
   ]
  },
  {
   "cell_type": "markdown",
   "metadata": {},
   "source": [
    "#### Multiple inheritance\n",
    "\n",
    "##### Inherit by layers"
   ]
  },
  {
   "cell_type": "code",
   "execution_count": 6,
   "metadata": {},
   "outputs": [
    {
     "name": "stdout",
     "output_type": "stream",
     "text": [
      "I am in charge\n",
      "My id is 4.\n",
      "I am an admin.\n"
     ]
    }
   ],
   "source": [
    "class Employee():\n",
    "  new_id = 1\n",
    "  def __init__(self):\n",
    "    self.id = Employee.new_id\n",
    "    Employee.new_id += 1\n",
    "\n",
    "  def say_id(self):\n",
    "    print(\"My id is {}.\".format(self.id))\n",
    "\n",
    "class Admin(Employee):\n",
    "  def say_id(self):\n",
    "    super().say_id()\n",
    "    print(\"I am an admin.\")\n",
    "\n",
    "# Manager inherits from Admin, who inherits from Employee\n",
    "class Manager(Admin):\n",
    "  def say_id(self):\n",
    "    print(\"I am in charge\")\n",
    "    super().say_id()\n",
    "\n",
    "e1 = Employee()\n",
    "e2 = Employee()\n",
    "e3 = Admin()\n",
    "e4 = Manager()\n",
    "e4.say_id()"
   ]
  },
  {
   "cell_type": "markdown",
   "metadata": {},
   "source": [
    "##### Inherit from 2 different classes"
   ]
  },
  {
   "cell_type": "code",
   "execution_count": 7,
   "metadata": {},
   "outputs": [
    {
     "name": "stdout",
     "output_type": "stream",
     "text": [
      "My username is 3\n",
      "My role is Admin\n"
     ]
    }
   ],
   "source": [
    "class Employee():\n",
    "  new_id = 1\n",
    "  def __init__(self):\n",
    "    self.id = Employee.new_id\n",
    "    Employee.new_id += 1\n",
    "\n",
    "  def say_id(self):\n",
    "    print(\"My id is {}.\".format(self.id))\n",
    "\n",
    "class User:\n",
    "  def __init__(self, username, role=\"Customer\"):\n",
    "    self.username = username\n",
    "    self.role = role\n",
    "\n",
    "  def say_user_info(self):\n",
    "    print(\"My username is {}\".format(self.username))\n",
    "    print(\"My role is {}\".format(self.role))\n",
    "\n",
    "# Admin inherit from Employee and User\n",
    "class Admin(Employee, User):\n",
    "  def __init__(self):\n",
    "    \n",
    "    # __init__ of Employee(super()) is called first\n",
    "    super().__init__()\n",
    "    \n",
    "    # __init__ of User is called later. self is passed to this call along with self.id and \"Admin\"\n",
    "    # as the requirement of __init__ method of User\n",
    "    User.__init__(self, self.id, \"Admin\")\n",
    "    \n",
    "  def say_id(self):\n",
    "    super().say_id()\n",
    "    print(\"I am an admin.\")\n",
    "\n",
    "e1 = Employee()\n",
    "e2 = Employee()\n",
    "e3 = Admin()\n",
    "e3.say_user_info()"
   ]
  },
  {
   "cell_type": "markdown",
   "metadata": {},
   "source": [
    "### Polymorphism\n",
    "\n",
    "Applying an identical operation onto different types of object.\n",
    "Other explanation: Polymorphism is a identical method name with different behaviours. In the below example, the make_noise return different outcome."
   ]
  },
  {
   "cell_type": "code",
   "execution_count": 9,
   "metadata": {},
   "outputs": [
    {
     "name": "stdout",
     "output_type": "stream",
     "text": [
      "Bear says, Grrrr\n",
      "Maisy says, Meow!\n",
      "beep.boop...BEEEEP!!!\n"
     ]
    }
   ],
   "source": [
    "class Animal:\n",
    "  def __init__(self, name):\n",
    "    self.name = name\n",
    "  def make_noise(self):\n",
    "    print(\"{} says, Grrrr\".format(self.name))\n",
    " \n",
    "class Cat(Animal):\n",
    "  def make_noise(self):\n",
    "    print(\"{} says, Meow!\".format(self.name))\n",
    " \n",
    "class Robot:\n",
    "  def make_noise(self):\n",
    "    print(\"beep.boop...BEEEEP!!!\")\n",
    "        \n",
    "an_animal = Animal(\"Bear\")\n",
    "my_pet = Cat(\"Maisy\")\n",
    "my_vacuum = Robot()\n",
    "objects = [an_animal, my_pet, my_vacuum]\n",
    "for o in objects:\n",
    "  o.make_noise()\n",
    " \n",
    "# OUTPUT\n",
    "# \"Bear says, Grrrr\"\n",
    "# \"Maisy says, Meow!\"\n",
    "# \"beep.boop...BEEEEP!!!\""
   ]
  },
  {
   "cell_type": "code",
   "execution_count": null,
   "metadata": {},
   "outputs": [],
   "source": []
  }
 ],
 "metadata": {
  "kernelspec": {
   "display_name": "Python 3",
   "language": "python",
   "name": "python3"
  },
  "language_info": {
   "codemirror_mode": {
    "name": "ipython",
    "version": 3
   },
   "file_extension": ".py",
   "mimetype": "text/x-python",
   "name": "python",
   "nbconvert_exporter": "python",
   "pygments_lexer": "ipython3",
   "version": "3.8.3"
  },
  "toc": {
   "base_numbering": 1,
   "nav_menu": {},
   "number_sections": true,
   "sideBar": true,
   "skip_h1_title": false,
   "title_cell": "Table of Contents",
   "title_sidebar": "Contents",
   "toc_cell": true,
   "toc_position": {},
   "toc_section_display": true,
   "toc_window_display": false
  }
 },
 "nbformat": 4,
 "nbformat_minor": 4
}
